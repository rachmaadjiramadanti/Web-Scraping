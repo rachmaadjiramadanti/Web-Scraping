{
 "cells": [
  {
   "cell_type": "code",
   "execution_count": 1,
   "metadata": {},
   "outputs": [],
   "source": [
    "import time\n",
    "from selenium import webdriver\n",
    "from bs4 import BeautifulSoup\n",
    "import pandas as pd \n",
    "from selenium.webdriver.common.by import By\n",
    "from selenium.common.exceptions import NoSuchElementException"
   ]
  },
  {
   "cell_type": "code",
   "execution_count": 2,
   "metadata": {},
   "outputs": [],
   "source": [
    "options = webdriver.ChromeOptions() \n",
    "options.add_argument(\"start-maximized\")\n",
    "url = 'https://www.olx.co.id/mobil-bekas_c198'\n",
    "driver = webdriver.Chrome()\n",
    "driver.maximize_window()\n",
    "driver.get(url)"
   ]
  },
  {
   "cell_type": "code",
   "execution_count": 4,
   "metadata": {},
   "outputs": [
    {
     "name": "stdout",
     "output_type": "stream",
     "text": [
      "Tombol tidak ditemukan, berhenti mengklik\n"
     ]
    }
   ],
   "source": [
    "while True:\n",
    "    try:\n",
    "        # Cari tombol dan klik\n",
    "        driver.find_element(By.CSS_SELECTOR, \"div._38O09 > button\").click()\n",
    "        time.sleep(2)\n",
    "    except NoSuchElementException:\n",
    "        print(\"Tombol tidak ditemukan, berhenti mengklik\")\n",
    "        break  # Hentikan loop saat tombol tidak ditemukan"
   ]
  },
  {
   "cell_type": "code",
   "execution_count": 5,
   "metadata": {},
   "outputs": [],
   "source": [
    "products=[]\n",
    "soup = BeautifulSoup(driver.page_source,\"html.parser\")\n",
    "for item in soup.findAll('li',class_='_3V_Ww'):\n",
    "    product_name = item.find('div',class_='_2Gr10').text\n",
    "    price = item.find('span',class_='_1zgtX')\n",
    "    year = item.find('div', class_='_21gnE')\n",
    "    place = item.find('div', class_='_3VRSm')\n",
    "    products.append(\n",
    "        (product_name,price,year,place)\n",
    "    )"
   ]
  },
  {
   "cell_type": "code",
   "execution_count": 6,
   "metadata": {},
   "outputs": [
    {
     "name": "stdout",
     "output_type": "stream",
     "text": [
      "             Product Name               Price                       Year  \\\n",
      "0              Honda Brio    [Rp 122.000.000]  [2017 - 70.000-75.000 km]   \n",
      "1         Toyota Fortuner    [Rp 410.000.000]  [2019 - 80.000-85.000 km]   \n",
      "2             Toyota Agya    [Rp 160.000.000]  [2023 - 10.000-15.000 km]   \n",
      "3           Nissan Serena    [Rp 150.000.000]  [2014 - 90.000-95.000 km]   \n",
      "4           Daihatsu Ayla     [Rp 79.000.000]  [2013 - 50.000-55.000 km]   \n",
      "..                    ...                 ...                        ...   \n",
      "496         Daihatsu Ayla     [Rp 70.000.000]  [2014 - 70.000-75.000 km]   \n",
      "497            Honda HR-V    [Rp 245.000.000]  [2019 - 60.000-65.000 km]   \n",
      "498  Toyota Kijang Innova    [Rp 225.000.000]  [2016 - 80.000-85.000 km]   \n",
      "499           Lexus RX300  [Rp 1.025.000.000]  [2020 - 15.000-20.000 km]   \n",
      "500  Toyota Kijang Innova    [Rp 230.000.000]  [2018 - 65.000-70.000 km]   \n",
      "\n",
      "                              Place  \n",
      "0        [Pasar Minggu, [Hari ini]]  \n",
      "1        [Pasar Minggu, [Hari ini]]  \n",
      "2        [Pasar Minggu, [Hari ini]]  \n",
      "3        [Pasar Minggu, [Hari ini]]  \n",
      "4        [Kebayoran Baru, [06 Mar]]  \n",
      "..                              ...  \n",
      "496    [Kebayoran Lama, [Hari ini]]  \n",
      "497  [Mampang Prapatan, [Hari ini]]  \n",
      "498      [Pesanggrahan, [Hari ini]]  \n",
      "499          [Cilandak, [Hari ini]]  \n",
      "500      [Pasar Minggu, [Hari ini]]  \n",
      "\n",
      "[501 rows x 4 columns]\n"
     ]
    }
   ],
   "source": [
    "df = pd.DataFrame(products, columns = ['Product Name', 'Price', 'Year', 'Place'])\n",
    "print(df)"
   ]
  },
  {
   "cell_type": "code",
   "execution_count": 7,
   "metadata": {},
   "outputs": [],
   "source": [
    "df.to_csv('scrapingdata.csv',index=False)"
   ]
  }
 ],
 "metadata": {
  "kernelspec": {
   "display_name": "Python 3",
   "language": "python",
   "name": "python3"
  },
  "language_info": {
   "codemirror_mode": {
    "name": "ipython",
    "version": 3
   },
   "file_extension": ".py",
   "mimetype": "text/x-python",
   "name": "python",
   "nbconvert_exporter": "python",
   "pygments_lexer": "ipython3",
   "version": "3.12.1"
  }
 },
 "nbformat": 4,
 "nbformat_minor": 2
}
